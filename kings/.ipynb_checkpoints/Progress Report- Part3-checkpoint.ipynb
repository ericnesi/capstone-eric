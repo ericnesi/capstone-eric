{
 "cells": [
  {
   "cell_type": "markdown",
   "metadata": {},
   "source": [
    "## <font color='purple'> **Capstone Part 3 Progress Report**"
   ]
  },
  {
   "cell_type": "markdown",
   "metadata": {},
   "source": [
    "#### Eric Nesi\n"
   ]
  },
  {
   "cell_type": "markdown",
   "metadata": {},
   "source": [
    "##### Data Acquisition / Cleaning / EDA:\n",
    "\n",
    "I have all of my data that I need for analysis; however, I am still working on getting the shot information for every team from every game.  I have performed an EDA on the Kings data, and I do not need this other data to continue with my analysis.  That said, it could be helpful as a supplement, just as the new dataset NBL Counting Stats 2016/2017 could be.   "
   ]
  },
  {
   "cell_type": "markdown",
   "metadata": {},
   "source": [
    "##### Modeling Process and Analysis:\n",
    "I modeled the data using Random Forest and Logistic Regression.  I chose these two types of regression because my target was the categorical variable 'Result', whether or not the shot was made.   My predictors at this moment were my bins I created for locations on the floor and distance from the hoop.  Not surprisingly, the best predictor was whether or not the players were close to the hoop.  My logistic regression was a bit more accurate than my Random Forest / Decision Tree analysis, but neither accuracy score was phenomenal. The results best predictor coeffiecents used in Logistic Regression:\n",
    "\n",
    "<img src=\"files/image.png\">\n",
    "    \n",
    "\n",
    "\n",
    "\n",
    "The B_3 feature represents the area right in front of the basket, so its high positive correlation is not surprisingly.  At the same time, the negative correlation between distance and shot made is not surprising as it is logical that the closer to the basket you are, the more likely you are to make the shot.  Interestingly, B_4 represents the area next closest area to the hoop to B_3 on the right-hand side of the court.  This makes the negative correlation surprising given that it is relatively close to the hoop.  \n",
    "\n",
    "Although I was able to carry out this regression analysis, I quickly realized that these models were not going to tell me much at this point.  These models did however, force me to rethink what I will truly be exploring in my capstone research.  My goal is not to attempt to predict where shots are being made on the floor, rather, it is to explore offensive efficiency from separate areas.  This is why it will be important to look at advanced statistics within each bin I create.  Advanced stats like effective field goal percentage and points per possession will help to take into account whether or not a shot is actually good.   Let me explain with an example:\n",
    "\n",
    "Assume the same number of shots were taken in two different bins.  If 50% of shots are made in one bin on the court and 40% of shots are made in another bin on the court, my current model would tell me that the bin with 50% makes is a better predictor of made shots.  The model is correct in this regard; however, that does not mean it is a more efficient area from where to shoot the ball.  If that bin with 40% was made up of 3pt shots, and 50% was made up of 2pt shots, then in basketball the more efficient shot would actually be the 3pt shot.  Effective field goal percentage accounts for this discrepency, but I need to be able to calculate effective field goal percentage for each bin on the court.  Then, I need to be able to determine whether the shot was efficient compared to other shots allowed by the Kings, and whether or not it was efficient compared to the league.  \n",
    "\n",
    "It is important to go back to the question at hand.  Are the Sydney Kings forcing teams to take inefficent shots on defense? \n",
    "\n",
    "To answer this question, simply looking at whether or not a shot is made is not a sufficient target variable.  As such, I have done some research into people using models to predict sports match wins and election wins.  It seems that whenever people are trying to predict these events with any accuracy, they do not use Win/Loss as the target variable.  Rather, when it comes to predicting wins and losses, people attempt to predict point differential or vote differential.  As such, I am looking into a target variable which is continuous, and is more sophisticated than just total points scored by the opposing team.  \n",
    "\n",
    "#### Going Forward:\n",
    "I believe using Tableau will definitely be helpful going forward, and I need to work on utilizing it to its full potential for my project. My project will be highly visual, so a tool like this will be very important for representing my findings. "
   ]
  },
  {
   "cell_type": "code",
   "execution_count": null,
   "metadata": {
    "collapsed": true
   },
   "outputs": [],
   "source": []
  }
 ],
 "metadata": {
  "kernelspec": {
   "display_name": "Python 3",
   "language": "python",
   "name": "python3"
  },
  "language_info": {
   "codemirror_mode": {
    "name": "ipython",
    "version": 3
   },
   "file_extension": ".py",
   "mimetype": "text/x-python",
   "name": "python",
   "nbconvert_exporter": "python",
   "pygments_lexer": "ipython3",
   "version": "3.6.0"
  }
 },
 "nbformat": 4,
 "nbformat_minor": 2
}

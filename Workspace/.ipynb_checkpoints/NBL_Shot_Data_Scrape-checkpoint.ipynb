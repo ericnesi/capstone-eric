{
 "cells": [
  {
   "cell_type": "markdown",
   "metadata": {},
   "source": [
    "### NBL Shot Data for the Entire 2016/2017 Season"
   ]
  },
  {
   "cell_type": "markdown",
   "metadata": {},
   "source": [
    "**Eric Nesi**\n",
    "\n",
    "**All Code in Python 3**"
   ]
  },
  {
   "cell_type": "markdown",
   "metadata": {},
   "source": [
    "This notebook is meant to scrape data from fibalivestats.com for each game of the 2016/2017 NBL season. Unfortunately, some of the games are missing data.  I will try to find some data elsewhere to make up for these games; however, I may be missing some for the season.  "
   ]
  },
  {
   "cell_type": "code",
   "execution_count": 6,
   "metadata": {
    "collapsed": false
   },
   "outputs": [],
   "source": [
    "import requests\n",
    "import json\n",
    "import pandas as pd\n",
    "pd.set_option('display.max_rows', 500)\n",
    "pd.set_option('display.max_columns', 500)"
   ]
  },
  {
   "cell_type": "code",
   "execution_count": 1,
   "metadata": {
    "collapsed": false
   },
   "outputs": [
    {
     "data": {
      "text/plain": [
       "['http://www.fibalivestats.com/data/314685/data.json',\n",
       " 'http://www.fibalivestats.com/data/314686/data.json',\n",
       " 'http://www.fibalivestats.com/data/314687/data.json',\n",
       " 'http://www.fibalivestats.com/data/314688/data.json',\n",
       " 'http://www.fibalivestats.com/data/314689/data.json',\n",
       " 'http://www.fibalivestats.com/data/314690/data.json',\n",
       " 'http://www.fibalivestats.com/data/314691/data.json',\n",
       " 'http://www.fibalivestats.com/data/314692/data.json',\n",
       " 'http://www.fibalivestats.com/data/314693/data.json',\n",
       " 'http://www.fibalivestats.com/data/314694/data.json']"
      ]
     },
     "execution_count": 1,
     "metadata": {},
     "output_type": "execute_result"
    }
   ],
   "source": [
    "nbl_urls = []\n",
    "\n",
    "for gm_num in range(314685, 314797): \n",
    "    if gm_num == 314700:\n",
    "        None\n",
    "    elif gm_num == 314702:\n",
    "        None\n",
    "    elif gm_num == 314773:\n",
    "        None\n",
    "    else:\n",
    "        url1 = ['http://www.fibalivestats.com/data/' + str(gm_num) + '/data.json']\n",
    "        nbl_urls.extend(url1)\n",
    "nbl_urls[0:10]"
   ]
  },
  {
   "cell_type": "code",
   "execution_count": 8,
   "metadata": {
    "collapsed": false
   },
   "outputs": [
    {
     "data": {
      "text/plain": [
       "['http://www.fibalivestats.com/data/314792/data.json',\n",
       " 'http://www.fibalivestats.com/data/314793/data.json',\n",
       " 'http://www.fibalivestats.com/data/314794/data.json',\n",
       " 'http://www.fibalivestats.com/data/314795/data.json',\n",
       " 'http://www.fibalivestats.com/data/314796/data.json',\n",
       " 'http://www.fibalivestats.com/data/574998/data.json',\n",
       " 'http://www.fibalivestats.com/data/575000/data.json']"
      ]
     },
     "execution_count": 8,
     "metadata": {},
     "output_type": "execute_result"
    }
   ],
   "source": [
    "#playoffs Round 1 scrape\n",
    "for gm_num in range(574998, 575003): \n",
    "    if gm_num == 574999:\n",
    "        None\n",
    "    else:\n",
    "        url1 = ['http://www.fibalivestats.com/data/' + str(gm_num) + '/data.json']\n",
    "        nbl_urls.extend(url1)\n",
    "        \n",
    "nbl_urls[104:111]"
   ]
  },
  {
   "cell_type": "code",
   "execution_count": 9,
   "metadata": {
    "collapsed": false
   },
   "outputs": [
    {
     "data": {
      "text/plain": [
       "['http://www.fibalivestats.com/data/574998/data.json',\n",
       " 'http://www.fibalivestats.com/data/575000/data.json',\n",
       " 'http://www.fibalivestats.com/data/575001/data.json',\n",
       " 'http://www.fibalivestats.com/data/575002/data.json',\n",
       " 'http://www.fibalivestats.com/data/579821/data.json',\n",
       " 'http://www.fibalivestats.com/data/579822/data.json',\n",
       " 'http://www.fibalivestats.com/data/579823/data.json']"
      ]
     },
     "execution_count": 9,
     "metadata": {},
     "output_type": "execute_result"
    }
   ],
   "source": [
    "#playoffs Grand Final scrape\n",
    "for gm_num in range(579821, 579824): \n",
    "    url1 = ['http://www.fibalivestats.com/data/' + str(gm_num) + '/data.json']\n",
    "    nbl_urls.extend(url1)\n",
    "nbl_urls[109:118]"
   ]
  },
  {
   "cell_type": "code",
   "execution_count": 10,
   "metadata": {
    "collapsed": false,
    "scrolled": true
   },
   "outputs": [
    {
     "data": {
      "text/plain": [
       "['http://www.fibalivestats.com/data/575000/data.json',\n",
       " 'http://www.fibalivestats.com/data/575001/data.json',\n",
       " 'http://www.fibalivestats.com/data/575002/data.json',\n",
       " 'http://www.fibalivestats.com/data/579821/data.json',\n",
       " 'http://www.fibalivestats.com/data/579822/data.json',\n",
       " 'http://www.fibalivestats.com/data/579823/data.json']"
      ]
     },
     "execution_count": 10,
     "metadata": {},
     "output_type": "execute_result"
    }
   ],
   "source": [
    "#check to see if compiled correctly\n",
    "nbl_urls[110:120]"
   ]
  },
  {
   "cell_type": "code",
   "execution_count": 11,
   "metadata": {
    "collapsed": true
   },
   "outputs": [],
   "source": [
    "##Used Greg Reda as a guide, but created a function so I could read in the entire season at once\n",
    "##Created a list of urls to shotcharts for every game in 2016/2017 season\n",
    "## http://www.gregreda.com/2015/02/15/web-scraping-finding-the-api/\n",
    "total_shots=[]\n",
    "\n",
    "def nbl_shot_data(shots_url):\n",
    "    \n",
    "    # request the URL and parse the JSON\n",
    "    response = requests.get(shots_url)\n",
    "    response.raise_for_status() # raise exception if invalid response\n",
    "    shots = response.json()['tm']['1']['shot']\n",
    "    shots2 = response.json()['tm']['2']['shot']\n",
    "    total_shots.extend(shots)\n",
    "    total_shots.extend(shots2)"
   ]
  },
  {
   "cell_type": "code",
   "execution_count": 12,
   "metadata": {
    "collapsed": false
   },
   "outputs": [],
   "source": [
    "#run the function\n",
    "for url in nbl_urls:\n",
    "   nbl_shot_data(url)"
   ]
  },
  {
   "cell_type": "code",
   "execution_count": 13,
   "metadata": {
    "collapsed": false
   },
   "outputs": [
    {
     "data": {
      "text/plain": [
       "[{'actionType': '2pt',\n",
       "  'p': 5,\n",
       "  'per': 1,\n",
       "  'perType': 'REGULAR',\n",
       "  'player': 'J. McKay',\n",
       "  'pno': 5,\n",
       "  'r': 0,\n",
       "  'shirtNumber': '5',\n",
       "  'subType': 'jumpshot',\n",
       "  'tno': 1,\n",
       "  'x': 10.018,\n",
       "  'y': 50.68}]"
      ]
     },
     "execution_count": 13,
     "metadata": {},
     "output_type": "execute_result"
    }
   ],
   "source": [
    "#check to see results\n",
    "total_shots[0:1]"
   ]
  },
  {
   "cell_type": "code",
   "execution_count": 15,
   "metadata": {
    "collapsed": false
   },
   "outputs": [],
   "source": [
    "#create Dataframe\n",
    "nbl_df = pd.DataFrame.from_records(total_shots)"
   ]
  },
  {
   "cell_type": "code",
   "execution_count": 16,
   "metadata": {
    "collapsed": false
   },
   "outputs": [
    {
     "data": {
      "text/plain": [
       "(15547, 12)"
      ]
     },
     "execution_count": 16,
     "metadata": {},
     "output_type": "execute_result"
    }
   ],
   "source": [
    "nbl_df.shape"
   ]
  },
  {
   "cell_type": "code",
   "execution_count": 17,
   "metadata": {
    "collapsed": false
   },
   "outputs": [],
   "source": [
    "nbl_df = nbl_df[0:15547]"
   ]
  },
  {
   "cell_type": "code",
   "execution_count": 18,
   "metadata": {
    "collapsed": false
   },
   "outputs": [
    {
     "data": {
      "text/html": [
       "<div>\n",
       "<table border=\"1\" class=\"dataframe\">\n",
       "  <thead>\n",
       "    <tr style=\"text-align: right;\">\n",
       "      <th></th>\n",
       "      <th>actionType</th>\n",
       "      <th>p</th>\n",
       "      <th>per</th>\n",
       "      <th>perType</th>\n",
       "      <th>player</th>\n",
       "      <th>pno</th>\n",
       "      <th>r</th>\n",
       "      <th>shirtNumber</th>\n",
       "      <th>subType</th>\n",
       "      <th>tno</th>\n",
       "      <th>x</th>\n",
       "      <th>y</th>\n",
       "    </tr>\n",
       "  </thead>\n",
       "  <tbody>\n",
       "    <tr>\n",
       "      <th>15542</th>\n",
       "      <td>3pt</td>\n",
       "      <td>7</td>\n",
       "      <td>4</td>\n",
       "      <td>REGULAR</td>\n",
       "      <td>R. Martin</td>\n",
       "      <td>7.0</td>\n",
       "      <td>1</td>\n",
       "      <td>13</td>\n",
       "      <td></td>\n",
       "      <td>2.0</td>\n",
       "      <td>32.787</td>\n",
       "      <td>47.619</td>\n",
       "    </tr>\n",
       "    <tr>\n",
       "      <th>15543</th>\n",
       "      <td>2pt</td>\n",
       "      <td>8</td>\n",
       "      <td>4</td>\n",
       "      <td>REGULAR</td>\n",
       "      <td>R. Clarke</td>\n",
       "      <td>8.0</td>\n",
       "      <td>0</td>\n",
       "      <td>15</td>\n",
       "      <td>jumpshot</td>\n",
       "      <td>2.0</td>\n",
       "      <td>6.740</td>\n",
       "      <td>74.150</td>\n",
       "    </tr>\n",
       "    <tr>\n",
       "      <th>15544</th>\n",
       "      <td>2pt</td>\n",
       "      <td>7</td>\n",
       "      <td>4</td>\n",
       "      <td>REGULAR</td>\n",
       "      <td>R. Martin</td>\n",
       "      <td>7.0</td>\n",
       "      <td>0</td>\n",
       "      <td>13</td>\n",
       "      <td>jumpshot</td>\n",
       "      <td>2.0</td>\n",
       "      <td>7.286</td>\n",
       "      <td>50.680</td>\n",
       "    </tr>\n",
       "    <tr>\n",
       "      <th>15545</th>\n",
       "      <td>3pt</td>\n",
       "      <td>8</td>\n",
       "      <td>4</td>\n",
       "      <td>REGULAR</td>\n",
       "      <td>R. Clarke</td>\n",
       "      <td>8.0</td>\n",
       "      <td>1</td>\n",
       "      <td>15</td>\n",
       "      <td></td>\n",
       "      <td>2.0</td>\n",
       "      <td>31.876</td>\n",
       "      <td>78.571</td>\n",
       "    </tr>\n",
       "    <tr>\n",
       "      <th>15546</th>\n",
       "      <td>2pt</td>\n",
       "      <td>10</td>\n",
       "      <td>4</td>\n",
       "      <td>REGULAR</td>\n",
       "      <td>M. Harris</td>\n",
       "      <td>10.0</td>\n",
       "      <td>1</td>\n",
       "      <td>23</td>\n",
       "      <td>layup</td>\n",
       "      <td>2.0</td>\n",
       "      <td>4.554</td>\n",
       "      <td>60.204</td>\n",
       "    </tr>\n",
       "  </tbody>\n",
       "</table>\n",
       "</div>"
      ],
      "text/plain": [
       "      actionType   p  per  perType     player   pno  r shirtNumber   subType  \\\n",
       "15542        3pt   7    4  REGULAR  R. Martin   7.0  1          13             \n",
       "15543        2pt   8    4  REGULAR  R. Clarke   8.0  0          15  jumpshot   \n",
       "15544        2pt   7    4  REGULAR  R. Martin   7.0  0          13  jumpshot   \n",
       "15545        3pt   8    4  REGULAR  R. Clarke   8.0  1          15             \n",
       "15546        2pt  10    4  REGULAR  M. Harris  10.0  1          23     layup   \n",
       "\n",
       "       tno       x       y  \n",
       "15542  2.0  32.787  47.619  \n",
       "15543  2.0   6.740  74.150  \n",
       "15544  2.0   7.286  50.680  \n",
       "15545  2.0  31.876  78.571  \n",
       "15546  2.0   4.554  60.204  "
      ]
     },
     "execution_count": 18,
     "metadata": {},
     "output_type": "execute_result"
    }
   ],
   "source": [
    "#check it out\n",
    "nbl_df.tail(5)"
   ]
  },
  {
   "cell_type": "code",
   "execution_count": 20,
   "metadata": {
    "collapsed": false
   },
   "outputs": [],
   "source": [
    "#immediately notice some of my players have number, Name in the player column and no pno\n",
    "#create new column that gets just the number using reg expression\n",
    "nbl_df['Num'] = nbl_df['player'].str.replace(r'\\D+', '')"
   ]
  },
  {
   "cell_type": "code",
   "execution_count": 21,
   "metadata": {
    "collapsed": false
   },
   "outputs": [],
   "source": [
    "#fill null values in player number column with new column values\n",
    "nbl_df.shirtNumber = nbl_df.shirtNumber.fillna(value=nbl_df.Num)"
   ]
  },
  {
   "cell_type": "code",
   "execution_count": 22,
   "metadata": {
    "collapsed": true
   },
   "outputs": [],
   "source": [
    "#clean player data to make it easier to parse, replace , and spaces with nothing\n",
    "nbl_df['player'] = nbl_df['player'].str.replace(',', '')\n",
    "nbl_df['player'] = nbl_df['player'].str.replace(' ', '')"
   ]
  },
  {
   "cell_type": "code",
   "execution_count": 23,
   "metadata": {
    "collapsed": true
   },
   "outputs": [],
   "source": [
    "#replace all digits with nothing and then replace . with .space in order to get the format First Inital Last Name\n",
    "nbl_df['player'] = nbl_df['player'].str.replace('\\d', '')\n",
    "nbl_df['player'] = nbl_df['player'].str.replace('.', '. ')"
   ]
  },
  {
   "cell_type": "code",
   "execution_count": 25,
   "metadata": {
    "collapsed": true
   },
   "outputs": [],
   "source": [
    "#drop column don't need\n",
    "nbl_df = nbl_df.drop('Num', 1)"
   ]
  },
  {
   "cell_type": "code",
   "execution_count": 26,
   "metadata": {
    "collapsed": false
   },
   "outputs": [
    {
     "data": {
      "text/html": [
       "<div>\n",
       "<table border=\"1\" class=\"dataframe\">\n",
       "  <thead>\n",
       "    <tr style=\"text-align: right;\">\n",
       "      <th></th>\n",
       "      <th>actionType</th>\n",
       "      <th>p</th>\n",
       "      <th>per</th>\n",
       "      <th>perType</th>\n",
       "      <th>player</th>\n",
       "      <th>pno</th>\n",
       "      <th>r</th>\n",
       "      <th>shirtNumber</th>\n",
       "      <th>subType</th>\n",
       "      <th>tno</th>\n",
       "      <th>x</th>\n",
       "      <th>y</th>\n",
       "    </tr>\n",
       "  </thead>\n",
       "  <tbody>\n",
       "    <tr>\n",
       "      <th>0</th>\n",
       "      <td>2pt</td>\n",
       "      <td>5</td>\n",
       "      <td>1</td>\n",
       "      <td>REGULAR</td>\n",
       "      <td>J. McKay</td>\n",
       "      <td>5.0</td>\n",
       "      <td>0</td>\n",
       "      <td>5</td>\n",
       "      <td>jumpshot</td>\n",
       "      <td>1.0</td>\n",
       "      <td>10.018</td>\n",
       "      <td>50.680</td>\n",
       "    </tr>\n",
       "    <tr>\n",
       "      <th>1</th>\n",
       "      <td>2pt</td>\n",
       "      <td>12</td>\n",
       "      <td>1</td>\n",
       "      <td>REGULAR</td>\n",
       "      <td>C. Prather</td>\n",
       "      <td>12.0</td>\n",
       "      <td>0</td>\n",
       "      <td>23</td>\n",
       "      <td>jumpshot</td>\n",
       "      <td>1.0</td>\n",
       "      <td>9.836</td>\n",
       "      <td>56.803</td>\n",
       "    </tr>\n",
       "    <tr>\n",
       "      <th>2</th>\n",
       "      <td>2pt</td>\n",
       "      <td>5</td>\n",
       "      <td>1</td>\n",
       "      <td>REGULAR</td>\n",
       "      <td>J. McKay</td>\n",
       "      <td>5.0</td>\n",
       "      <td>1</td>\n",
       "      <td>5</td>\n",
       "      <td>jumpshot</td>\n",
       "      <td>1.0</td>\n",
       "      <td>7.104</td>\n",
       "      <td>54.082</td>\n",
       "    </tr>\n",
       "    <tr>\n",
       "      <th>3</th>\n",
       "      <td>2pt</td>\n",
       "      <td>17</td>\n",
       "      <td>1</td>\n",
       "      <td>REGULAR</td>\n",
       "      <td>D. Martin</td>\n",
       "      <td>17.0</td>\n",
       "      <td>1</td>\n",
       "      <td>53</td>\n",
       "      <td>jumpshot</td>\n",
       "      <td>1.0</td>\n",
       "      <td>10.383</td>\n",
       "      <td>36.395</td>\n",
       "    </tr>\n",
       "    <tr>\n",
       "      <th>4</th>\n",
       "      <td>2pt</td>\n",
       "      <td>5</td>\n",
       "      <td>1</td>\n",
       "      <td>REGULAR</td>\n",
       "      <td>J. McKay</td>\n",
       "      <td>5.0</td>\n",
       "      <td>1</td>\n",
       "      <td>5</td>\n",
       "      <td>jumpshot</td>\n",
       "      <td>1.0</td>\n",
       "      <td>8.015</td>\n",
       "      <td>56.463</td>\n",
       "    </tr>\n",
       "  </tbody>\n",
       "</table>\n",
       "</div>"
      ],
      "text/plain": [
       "  actionType   p  per  perType      player   pno  r shirtNumber   subType  \\\n",
       "0        2pt   5    1  REGULAR    J. McKay   5.0  0           5  jumpshot   \n",
       "1        2pt  12    1  REGULAR  C. Prather  12.0  0          23  jumpshot   \n",
       "2        2pt   5    1  REGULAR    J. McKay   5.0  1           5  jumpshot   \n",
       "3        2pt  17    1  REGULAR   D. Martin  17.0  1          53  jumpshot   \n",
       "4        2pt   5    1  REGULAR    J. McKay   5.0  1           5  jumpshot   \n",
       "\n",
       "   tno       x       y  \n",
       "0  1.0  10.018  50.680  \n",
       "1  1.0   9.836  56.803  \n",
       "2  1.0   7.104  54.082  \n",
       "3  1.0  10.383  36.395  \n",
       "4  1.0   8.015  56.463  "
      ]
     },
     "execution_count": 26,
     "metadata": {},
     "output_type": "execute_result"
    }
   ],
   "source": [
    "nbl_df.head()"
   ]
  },
  {
   "cell_type": "code",
   "execution_count": 27,
   "metadata": {
    "collapsed": true
   },
   "outputs": [],
   "source": [
    "#export to csv\n",
    "nbl_df.to_csv('/Users/ericnesi/Desktop/capstone_eric/datasets/All_Shots.csv')"
   ]
  },
  {
   "cell_type": "markdown",
   "metadata": {},
   "source": [
    "#### UPDATE\n",
    "Found data for two of the games I was missing on SpatialJam.com Github.  I am still missing two games from the year."
   ]
  },
  {
   "cell_type": "markdown",
   "metadata": {},
   "source": [
    "### END"
   ]
  }
 ],
 "metadata": {
  "kernelspec": {
   "display_name": "Python 3",
   "language": "python",
   "name": "python3"
  },
  "language_info": {
   "codemirror_mode": {
    "name": "ipython",
    "version": 3
   },
   "file_extension": ".py",
   "mimetype": "text/x-python",
   "name": "python",
   "nbconvert_exporter": "python",
   "pygments_lexer": "ipython3",
   "version": "3.6.0"
  }
 },
 "nbformat": 4,
 "nbformat_minor": 2
}

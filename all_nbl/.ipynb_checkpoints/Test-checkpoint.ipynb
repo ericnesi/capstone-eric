{
 "cells": [
  {
   "cell_type": "markdown",
   "metadata": {},
   "source": [
    "## <font color=purple> **NBL DATA FROM 2016/2017**\n",
    "##### **Eric Nesi**\n",
    "##### All Code in Python 3"
   ]
  },
  {
   "cell_type": "code",
   "execution_count": 1,
   "metadata": {
    "collapsed": true
   },
   "outputs": [],
   "source": [
    "import matplotlib.pyplot as plt\n",
    "import numpy as np\n",
    "import pandas as pd\n",
    "import seaborn as sns\n",
    "import scipy.stats as stats\n",
    "from sklearn.metrics import classification_report, confusion_matrix, accuracy_score\n",
    "from sklearn.linear_model import LinearRegression, LogisticRegressionCV, LogisticRegression, Lasso, LassoCV, Ridge, RidgeCV\n",
    "from sklearn.model_selection import GridSearchCV, cross_val_score\n",
    "\n",
    "\n",
    "plt.style.use('fivethirtyeight')\n",
    "\n",
    "from ipywidgets import *\n",
    "from IPython.display import display\n",
    "\n",
    "%matplotlib inline\n",
    "%config InlineBackend.figure_format = 'retina'"
   ]
  },
  {
   "cell_type": "code",
   "execution_count": 25,
   "metadata": {
    "collapsed": false
   },
   "outputs": [],
   "source": [
    "#Set my X_features and append to dataframe\n",
    "X_features = kings[['Court_Loc','Quarter']]\n",
    "X_features = pd.concat([pd.get_dummies(X_features[col]) for col in X_features], axis=1)\n",
    "X_features['distance_m'] = kings['distance_m']"
   ]
  },
  {
   "cell_type": "code",
   "execution_count": 26,
   "metadata": {
    "collapsed": false
   },
   "outputs": [
    {
     "data": {
      "text/html": [
       "<div>\n",
       "<table border=\"1\" class=\"dataframe\">\n",
       "  <thead>\n",
       "    <tr style=\"text-align: right;\">\n",
       "      <th></th>\n",
       "      <th>In_the_Paint</th>\n",
       "      <th>Left_Corner</th>\n",
       "      <th>Left_Corner_3pt</th>\n",
       "      <th>Left_Wing</th>\n",
       "      <th>Left_Wing_3pt</th>\n",
       "      <th>Restricted_Area</th>\n",
       "      <th>Right_Corner</th>\n",
       "      <th>Right_Corner_3pt</th>\n",
       "      <th>Right_Wing</th>\n",
       "      <th>Right_Wing_3pt</th>\n",
       "      <th>Top_of_Key</th>\n",
       "      <th>Top_of_Key_3pt</th>\n",
       "      <th>1</th>\n",
       "      <th>2</th>\n",
       "      <th>3</th>\n",
       "      <th>4</th>\n",
       "      <th>distance_m</th>\n",
       "    </tr>\n",
       "  </thead>\n",
       "  <tbody>\n",
       "    <tr>\n",
       "      <th>882</th>\n",
       "      <td>0</td>\n",
       "      <td>0</td>\n",
       "      <td>0</td>\n",
       "      <td>0</td>\n",
       "      <td>1</td>\n",
       "      <td>0</td>\n",
       "      <td>0</td>\n",
       "      <td>0</td>\n",
       "      <td>0</td>\n",
       "      <td>0</td>\n",
       "      <td>0</td>\n",
       "      <td>0</td>\n",
       "      <td>0</td>\n",
       "      <td>0</td>\n",
       "      <td>0</td>\n",
       "      <td>1</td>\n",
       "      <td>10.240632</td>\n",
       "    </tr>\n",
       "    <tr>\n",
       "      <th>302</th>\n",
       "      <td>0</td>\n",
       "      <td>0</td>\n",
       "      <td>0</td>\n",
       "      <td>0</td>\n",
       "      <td>1</td>\n",
       "      <td>0</td>\n",
       "      <td>0</td>\n",
       "      <td>0</td>\n",
       "      <td>0</td>\n",
       "      <td>0</td>\n",
       "      <td>0</td>\n",
       "      <td>0</td>\n",
       "      <td>0</td>\n",
       "      <td>0</td>\n",
       "      <td>0</td>\n",
       "      <td>1</td>\n",
       "      <td>9.994555</td>\n",
       "    </tr>\n",
       "    <tr>\n",
       "      <th>290</th>\n",
       "      <td>0</td>\n",
       "      <td>0</td>\n",
       "      <td>0</td>\n",
       "      <td>0</td>\n",
       "      <td>0</td>\n",
       "      <td>0</td>\n",
       "      <td>0</td>\n",
       "      <td>0</td>\n",
       "      <td>0</td>\n",
       "      <td>1</td>\n",
       "      <td>0</td>\n",
       "      <td>0</td>\n",
       "      <td>0</td>\n",
       "      <td>0</td>\n",
       "      <td>1</td>\n",
       "      <td>0</td>\n",
       "      <td>9.616913</td>\n",
       "    </tr>\n",
       "    <tr>\n",
       "      <th>1047</th>\n",
       "      <td>0</td>\n",
       "      <td>0</td>\n",
       "      <td>0</td>\n",
       "      <td>0</td>\n",
       "      <td>0</td>\n",
       "      <td>0</td>\n",
       "      <td>0</td>\n",
       "      <td>0</td>\n",
       "      <td>0</td>\n",
       "      <td>1</td>\n",
       "      <td>0</td>\n",
       "      <td>0</td>\n",
       "      <td>0</td>\n",
       "      <td>1</td>\n",
       "      <td>0</td>\n",
       "      <td>0</td>\n",
       "      <td>9.370499</td>\n",
       "    </tr>\n",
       "    <tr>\n",
       "      <th>1087</th>\n",
       "      <td>0</td>\n",
       "      <td>0</td>\n",
       "      <td>0</td>\n",
       "      <td>0</td>\n",
       "      <td>0</td>\n",
       "      <td>0</td>\n",
       "      <td>0</td>\n",
       "      <td>0</td>\n",
       "      <td>0</td>\n",
       "      <td>1</td>\n",
       "      <td>0</td>\n",
       "      <td>0</td>\n",
       "      <td>0</td>\n",
       "      <td>0</td>\n",
       "      <td>0</td>\n",
       "      <td>1</td>\n",
       "      <td>9.090370</td>\n",
       "    </tr>\n",
       "  </tbody>\n",
       "</table>\n",
       "</div>"
      ],
      "text/plain": [
       "      In_the_Paint  Left_Corner  Left_Corner_3pt  Left_Wing  Left_Wing_3pt  \\\n",
       "882              0            0                0          0              1   \n",
       "302              0            0                0          0              1   \n",
       "290              0            0                0          0              0   \n",
       "1047             0            0                0          0              0   \n",
       "1087             0            0                0          0              0   \n",
       "\n",
       "      Restricted_Area  Right_Corner  Right_Corner_3pt  Right_Wing  \\\n",
       "882                 0             0                 0           0   \n",
       "302                 0             0                 0           0   \n",
       "290                 0             0                 0           0   \n",
       "1047                0             0                 0           0   \n",
       "1087                0             0                 0           0   \n",
       "\n",
       "      Right_Wing_3pt  Top_of_Key  Top_of_Key_3pt  1  2  3  4  distance_m  \n",
       "882                0           0               0  0  0  0  1   10.240632  \n",
       "302                0           0               0  0  0  0  1    9.994555  \n",
       "290                1           0               0  0  0  1  0    9.616913  \n",
       "1047               1           0               0  0  1  0  0    9.370499  \n",
       "1087               1           0               0  0  0  0  1    9.090370  "
      ]
     },
     "execution_count": 26,
     "metadata": {},
     "output_type": "execute_result"
    }
   ],
   "source": [
    "X_features.head()"
   ]
  },
  {
   "cell_type": "markdown",
   "metadata": {},
   "source": [
    "#### **Random Forest:**"
   ]
  },
  {
   "cell_type": "code",
   "execution_count": 27,
   "metadata": {
    "collapsed": true
   },
   "outputs": [],
   "source": [
    "from sklearn.preprocessing import StandardScaler\n",
    "\n",
    "ss = StandardScaler()\n",
    "\n",
    "Xs = ss.fit_transform(X_features)\n",
    "\n",
    "Y = kings['Result']"
   ]
  },
  {
   "cell_type": "code",
   "execution_count": 28,
   "metadata": {
    "collapsed": false
   },
   "outputs": [
    {
     "name": "stdout",
     "output_type": "stream",
     "text": [
      "dtc acc: 0.542517006803\n",
      "rf acc: 0.544217687075\n"
     ]
    }
   ],
   "source": [
    "from sklearn.tree import DecisionTreeClassifier\n",
    "from sklearn.ensemble import RandomForestClassifier\n",
    "from sklearn.model_selection import train_test_split\n",
    "from sklearn.metrics import accuracy_score\n",
    "\n",
    "Xtrain, Xtest, ytrain, ytest = train_test_split(Xs, Y, test_size=0.33)\n",
    "\n",
    "dtc = DecisionTreeClassifier(max_depth=None, max_features='auto')\n",
    "dtc.fit(Xtrain, ytrain)\n",
    "print ('dtc acc:', dtc.score(Xtest, ytest))\n",
    "\n",
    "rf = RandomForestClassifier(n_estimators=1000, max_depth=None, max_features='auto')\n",
    "rf.fit(Xtrain, ytrain)\n",
    "yhat = rf.predict(Xtest)\n",
    "print ('rf acc:', accuracy_score(ytest, yhat))\n"
   ]
  },
  {
   "cell_type": "markdown",
   "metadata": {},
   "source": [
    "At this point, I realized predicting whether or not a shot is going to be made is potentially not a great option, but while I am doing it, I decided to try logistic regression to see if I could improve accuracy.  Not a great prediction score by RF/DTC."
   ]
  },
  {
   "cell_type": "markdown",
   "metadata": {},
   "source": [
    "#### **Logistic Regression:**"
   ]
  },
  {
   "cell_type": "code",
   "execution_count": 29,
   "metadata": {
    "collapsed": false
   },
   "outputs": [
    {
     "name": "stdout",
     "output_type": "stream",
     "text": [
      "GridSearchCV(cv=5, error_score='raise',\n",
      "       estimator=LogisticRegression(C=1.0, class_weight=None, dual=False, fit_intercept=True,\n",
      "          intercept_scaling=1, max_iter=100, multi_class='ovr', n_jobs=1,\n",
      "          penalty='l2', random_state=None, solver='liblinear', tol=0.0001,\n",
      "          verbose=0, warm_start=False),\n",
      "       fit_params={}, iid=True, n_jobs=1,\n",
      "       param_grid={'penalty': ['l1', 'l2'], 'solver': ['liblinear'], 'C': array([  1.00000e-05,   1.12332e-05, ...,   8.90215e-01,   1.00000e+00])},\n",
      "       pre_dispatch='2*n_jobs', refit=True, return_train_score=True,\n",
      "       scoring=None, verbose=1)\n"
     ]
    }
   ],
   "source": [
    "# Set parameters for gridsearching\n",
    "# Taken from 6.3.3. and 6.3.4\n",
    "\n",
    "gs_params = {\n",
    "    'penalty':['l1','l2'],\n",
    "    'solver':['liblinear'],\n",
    "    'C':np.logspace(-5,0,100)\n",
    "}\n",
    "\n",
    "lr_gridsearch = GridSearchCV(LogisticRegression(), gs_params, cv=5, verbose=1)\n",
    "print (lr_gridsearch)\n"
   ]
  },
  {
   "cell_type": "code",
   "execution_count": 30,
   "metadata": {
    "collapsed": false
   },
   "outputs": [],
   "source": [
    "# TTS our data.\n",
    "# We will have a holdout set to test on at the end.\n",
    "X_train, X_test, y_train, y_test = train_test_split(Xs, Y, test_size=0.3, random_state=12)"
   ]
  },
  {
   "cell_type": "code",
   "execution_count": 31,
   "metadata": {
    "collapsed": false
   },
   "outputs": [
    {
     "name": "stdout",
     "output_type": "stream",
     "text": [
      "Fitting 5 folds for each of 200 candidates, totalling 1000 fits\n",
      "0.626003210273\n",
      "{'C': 0.0095454845666183372, 'penalty': 'l1', 'solver': 'liblinear'}\n"
     ]
    },
    {
     "name": "stderr",
     "output_type": "stream",
     "text": [
      "[Parallel(n_jobs=1)]: Done 1000 out of 1000 | elapsed:    4.6s finished\n"
     ]
    }
   ],
   "source": [
    "lr_gridsearch.fit(X_train, y_train)\n",
    "\n",
    "print (lr_gridsearch.best_score_)\n",
    "print (lr_gridsearch.best_params_)"
   ]
  },
  {
   "cell_type": "code",
   "execution_count": 34,
   "metadata": {
    "collapsed": false
   },
   "outputs": [
    {
     "data": {
      "text/plain": [
       "LogisticRegression(C=0.009545484566618337, class_weight=None, dual=False,\n",
       "          fit_intercept=True, intercept_scaling=1, max_iter=100,\n",
       "          multi_class='ovr', n_jobs=1, penalty='l1', random_state=None,\n",
       "          solver='liblinear', tol=0.0001, verbose=0, warm_start=False)"
      ]
     },
     "execution_count": 34,
     "metadata": {},
     "output_type": "execute_result"
    }
   ],
   "source": [
    "bestfit = {'C': 0.0095454845666183372, 'penalty':'l1', 'solver': 'liblinear'}\n",
    "\n",
    "logreg = LogisticRegression(C=0.0095454845666183372, penalty='l1', solver='liblinear')\n",
    "\n",
    "logreg.fit(X_train, y_train)"
   ]
  },
  {
   "cell_type": "code",
   "execution_count": 35,
   "metadata": {
    "collapsed": false
   },
   "outputs": [
    {
     "name": "stdout",
     "output_type": "stream",
     "text": [
      "best params for Result:\n",
      "     0   1\n",
      "0  248  32\n",
      "1  173  82\n"
     ]
    }
   ],
   "source": [
    "Y_pred = logreg.predict(X_test)\n",
    "\n",
    "# stores confusion matrix for Y Test and Y Pred  \n",
    "conmat = confusion_matrix(y_test, Y_pred, labels=logreg.classes_)\n",
    "# converts np.matrix format matrix to a dataframe and adds index and column names\n",
    "conmat = pd.DataFrame(conmat, columns=logreg.classes_, index=logreg.classes_)\n",
    "\n",
    "print ('best params for Result:')\n",
    "print (conmat)"
   ]
  },
  {
   "cell_type": "code",
   "execution_count": 36,
   "metadata": {
    "collapsed": false,
    "scrolled": true
   },
   "outputs": [
    {
     "name": "stdout",
     "output_type": "stream",
     "text": [
      "             precision    recall  f1-score   support\n",
      "\n",
      "          0       0.59      0.89      0.71       280\n",
      "          1       0.72      0.32      0.44       255\n",
      "\n",
      "avg / total       0.65      0.62      0.58       535\n",
      "\n"
     ]
    }
   ],
   "source": [
    "print(classification_report(y_test, Y_pred))"
   ]
  },
  {
   "cell_type": "code",
   "execution_count": 37,
   "metadata": {
    "collapsed": false
   },
   "outputs": [
    {
     "name": "stdout",
     "output_type": "stream",
     "text": [
      "0.623245367771\n"
     ]
    }
   ],
   "source": [
    "best_lr = lr_gridsearch.best_estimator_\n",
    "\n",
    "print (best_lr.score(Xs, Y))\n"
   ]
  },
  {
   "cell_type": "code",
   "execution_count": 38,
   "metadata": {
    "collapsed": false,
    "scrolled": true
   },
   "outputs": [
    {
     "data": {
      "text/html": [
       "<div>\n",
       "<table border=\"1\" class=\"dataframe\">\n",
       "  <thead>\n",
       "    <tr style=\"text-align: right;\">\n",
       "      <th></th>\n",
       "      <th>coef</th>\n",
       "      <th>feature</th>\n",
       "      <th>abs_coef</th>\n",
       "    </tr>\n",
       "  </thead>\n",
       "  <tbody>\n",
       "    <tr>\n",
       "      <th>5</th>\n",
       "      <td>0.15422</td>\n",
       "      <td>Restricted_Area</td>\n",
       "      <td>0.15422</td>\n",
       "    </tr>\n",
       "    <tr>\n",
       "      <th>0</th>\n",
       "      <td>0.00000</td>\n",
       "      <td>In_the_Paint</td>\n",
       "      <td>0.00000</td>\n",
       "    </tr>\n",
       "    <tr>\n",
       "      <th>9</th>\n",
       "      <td>0.00000</td>\n",
       "      <td>Right_Wing_3pt</td>\n",
       "      <td>0.00000</td>\n",
       "    </tr>\n",
       "    <tr>\n",
       "      <th>15</th>\n",
       "      <td>0.00000</td>\n",
       "      <td>4</td>\n",
       "      <td>0.00000</td>\n",
       "    </tr>\n",
       "    <tr>\n",
       "      <th>14</th>\n",
       "      <td>0.00000</td>\n",
       "      <td>3</td>\n",
       "      <td>0.00000</td>\n",
       "    </tr>\n",
       "    <tr>\n",
       "      <th>13</th>\n",
       "      <td>0.00000</td>\n",
       "      <td>2</td>\n",
       "      <td>0.00000</td>\n",
       "    </tr>\n",
       "    <tr>\n",
       "      <th>12</th>\n",
       "      <td>0.00000</td>\n",
       "      <td>1</td>\n",
       "      <td>0.00000</td>\n",
       "    </tr>\n",
       "    <tr>\n",
       "      <th>11</th>\n",
       "      <td>0.00000</td>\n",
       "      <td>Top_of_Key_3pt</td>\n",
       "      <td>0.00000</td>\n",
       "    </tr>\n",
       "    <tr>\n",
       "      <th>10</th>\n",
       "      <td>0.00000</td>\n",
       "      <td>Top_of_Key</td>\n",
       "      <td>0.00000</td>\n",
       "    </tr>\n",
       "    <tr>\n",
       "      <th>8</th>\n",
       "      <td>0.00000</td>\n",
       "      <td>Right_Wing</td>\n",
       "      <td>0.00000</td>\n",
       "    </tr>\n",
       "    <tr>\n",
       "      <th>1</th>\n",
       "      <td>0.00000</td>\n",
       "      <td>Left_Corner</td>\n",
       "      <td>0.00000</td>\n",
       "    </tr>\n",
       "    <tr>\n",
       "      <th>7</th>\n",
       "      <td>0.00000</td>\n",
       "      <td>Right_Corner_3pt</td>\n",
       "      <td>0.00000</td>\n",
       "    </tr>\n",
       "  </tbody>\n",
       "</table>\n",
       "</div>"
      ],
      "text/plain": [
       "       coef           feature  abs_coef\n",
       "5   0.15422   Restricted_Area   0.15422\n",
       "0   0.00000      In_the_Paint   0.00000\n",
       "9   0.00000    Right_Wing_3pt   0.00000\n",
       "15  0.00000                 4   0.00000\n",
       "14  0.00000                 3   0.00000\n",
       "13  0.00000                 2   0.00000\n",
       "12  0.00000                 1   0.00000\n",
       "11  0.00000    Top_of_Key_3pt   0.00000\n",
       "10  0.00000        Top_of_Key   0.00000\n",
       "8   0.00000        Right_Wing   0.00000\n",
       "1   0.00000       Left_Corner   0.00000\n",
       "7   0.00000  Right_Corner_3pt   0.00000"
      ]
     },
     "execution_count": 38,
     "metadata": {},
     "output_type": "execute_result"
    }
   ],
   "source": [
    "coef_df = pd.DataFrame({\n",
    "        'coef':best_lr.coef_[0],\n",
    "        'feature':X_features.columns\n",
    "    })\n",
    "\n",
    "\n",
    "coef_df['abs_coef'] = np.abs(coef_df.coef)\n",
    "\n",
    "# sort by absolute value of coefficient (magnitude)\n",
    "coef_df.sort_values('abs_coef', ascending=False, inplace=True)\n",
    "\n",
    "coef_df.head(12)"
   ]
  },
  {
   "cell_type": "markdown",
   "metadata": {},
   "source": [
    "#### Discussion:\n",
    "This is not surprising that the closer to the basket you are the more likely you are to make the shot. That said, the prediction score isn't great.  Furthermore, it is really not what I am trying to accomplish with the project.  I will explain more in Summary."
   ]
  },
  {
   "cell_type": "code",
   "execution_count": 43,
   "metadata": {
    "collapsed": false
   },
   "outputs": [
    {
     "name": "stdout",
     "output_type": "stream",
     "text": [
      "(1781, 19)\n",
      "['Left_Wing_3pt' 'Right_Wing_3pt' 'Top_of_Key_3pt' 'Left_Corner_3pt'\n",
      " 'Right_Corner_3pt' 'Right_Wing' 'Top_of_Key' 'Left_Wing' 'Right_Corner'\n",
      " 'Left_Corner' 'In_the_Paint' 'Restricted_Area']\n"
     ]
    }
   ],
   "source": [
    "print(kings.shape)\n",
    "print(kings.Court_Loc.unique())"
   ]
  },
  {
   "cell_type": "code",
   "execution_count": 45,
   "metadata": {
    "collapsed": false,
    "scrolled": true
   },
   "outputs": [
    {
     "name": "stdout",
     "output_type": "stream",
     "text": [
      "0.212801796743\n",
      "0.111173498035\n",
      "0.115665356541\n",
      "0.0606400898372\n",
      "0.0151600224593\n",
      "0.0157215047726\n",
      "0.0224592925323\n",
      "0.0359348680517\n",
      "0.0230207748456\n",
      "0.0252667040988\n",
      "0.329028635598\n"
     ]
    }
   ],
   "source": [
    "print(np.sum(kings.Court_Loc ==\"Restricted_Area\")/1781)\n",
    "print(np.sum(kings.Court_Loc =='Left_Wing_3pt')/1781)\n",
    "print(np.sum(kings.Court_Loc =='Right_Wing_3pt')/1781)\n",
    "print(np.sum(kings.Court_Loc =='Top_of_Key_3pt')/1781)\n",
    "print(np.sum(kings.Court_Loc =='Left_Corner_3pt')/1781)\n",
    "print(np.sum(kings.Court_Loc =='Right_Corner_3pt')/1781)\n",
    "print(np.sum(kings.Court_Loc =='Top_of_Key')/1781)\n",
    "print(np.sum(kings.Court_Loc =='Left_Wing')/1781)\n",
    "print(np.sum(kings.Court_Loc =='Right_Corner')/1781)\n",
    "print(np.sum(kings.Court_Loc =='Left_Corner')/1781)\n",
    "print(np.sum(kings.Court_Loc =='In_the_Paint')/1781)"
   ]
  }
 ],
 "metadata": {
  "kernelspec": {
   "display_name": "Python 3",
   "language": "python",
   "name": "python3"
  },
  "language_info": {
   "codemirror_mode": {
    "name": "ipython",
    "version": 3
   },
   "file_extension": ".py",
   "mimetype": "text/x-python",
   "name": "python",
   "nbconvert_exporter": "python",
   "pygments_lexer": "ipython3",
   "version": "3.6.0"
  }
 },
 "nbformat": 4,
 "nbformat_minor": 2
}
